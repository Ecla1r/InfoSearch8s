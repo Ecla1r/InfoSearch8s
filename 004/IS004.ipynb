{
 "cells": [
  {
   "cell_type": "code",
   "execution_count": 20,
   "id": "05e9ff61-7abc-4d6e-87b9-1e19ecf4f003",
   "metadata": {},
   "outputs": [],
   "source": [
    "import os\n",
    "from collections import defaultdict\n",
    "from math import log"
   ]
  },
  {
   "cell_type": "code",
   "execution_count": 21,
   "id": "ba9aa6be-df14-49c7-afe9-7acfb49a618b",
   "metadata": {},
   "outputs": [],
   "source": [
    "DIRECTORY = 'Выкачка_очищенная'\n",
    "COUNT_DOCUMENTS = 100"
   ]
  },
  {
   "cell_type": "code",
   "execution_count": 22,
   "id": "c0c6b169-5e47-4335-a138-4c6019fb8392",
   "metadata": {},
   "outputs": [],
   "source": [
    "def count_tf(terms):\n",
    "    tf_dict = defaultdict(float)\n",
    "    for term in terms:\n",
    "        tf_dict[term] += 1\n",
    "    for k, v in tf_dict.items():\n",
    "        tf_dict[k] = v / len(terms)\n",
    "    return tf_dict"
   ]
  },
  {
   "cell_type": "code",
   "execution_count": 23,
   "id": "b487947e-632e-4513-bbdc-6481039382ad",
   "metadata": {},
   "outputs": [],
   "source": [
    "def count_idf(terms, terms_in_documents):\n",
    "    idf_dict = dict()\n",
    "    for term in terms:\n",
    "        count_doc_with_term = 0\n",
    "        for terms_in_document in terms_in_documents:\n",
    "            if term in terms_in_document:\n",
    "                count_doc_with_term += 1\n",
    "        idf_dict[term] = log(COUNT_DOCUMENTS / count_doc_with_term)\n",
    "    return idf_dict"
   ]
  },
  {
   "cell_type": "code",
   "execution_count": 24,
   "id": "27edb7ae-6492-4a4a-9906-b38589b6c203",
   "metadata": {},
   "outputs": [],
   "source": [
    "def count_tf_idf(tf_dict, idf_dict):\n",
    "    tf_idf_dicts = dict()\n",
    "    for term, tf_value in tf_dict.items():\n",
    "        tf_idf_dicts[term] = tf_value * idf_dict[term]\n",
    "    return tf_idf_dicts"
   ]
  },
  {
   "cell_type": "code",
   "execution_count": 25,
   "id": "832b47bb-952b-483d-a7ff-854a2807292a",
   "metadata": {},
   "outputs": [],
   "source": [
    "def get_tf_terms(type):\n",
    "    terms_overall = []\n",
    "    terms_in_documents = []\n",
    "    idx = -1\n",
    "    tf_documents = [defaultdict(list) for _ in range(COUNT_DOCUMENTS)]\n",
    "    for root, dirs, files in os.walk(DIRECTORY):\n",
    "        for file in files:\n",
    "            if file.lower().endswith('.txt') and file.lower().startswith(type):\n",
    "                idx += 1\n",
    "                path_file = os.path.join(root, file)\n",
    "                with open(path_file, encoding=\"utf=8\") as f:\n",
    "                    if type == \"tokens\":\n",
    "                        terms_in_documents.append(f.read().split('\\n'))\n",
    "                    else:\n",
    "                        terms_in_documents.append(list(map(lambda x: x.split(':')[0], f.readlines())))\n",
    "                    tf_documents[idx] = count_tf(terms_in_documents[idx])\n",
    "                    terms_overall += terms_in_documents[idx]\n",
    "    terms_overall = list(set(terms_overall))\n",
    "    idf_terms = count_idf(terms_overall, terms_in_documents)\n",
    "    tf_idf_dicts = []\n",
    "    for tf_document in tf_documents:\n",
    "        tf_idf_terms = count_tf_idf(tf_document, idf_terms)\n",
    "        tf_idf_dicts.append(tf_idf_terms)\n",
    "    return tf_idf_dicts, idf_terms"
   ]
  },
  {
   "cell_type": "code",
   "execution_count": 26,
   "id": "3c4d6642-6a60-4fd6-ae65-da90c5b98ad6",
   "metadata": {},
   "outputs": [],
   "source": [
    "def writing_files(tf_idf_dicts, idf_terms, type):\n",
    "    path_result_begin = f\"tf_idf_{type}/{type}_\"\n",
    "    for i, tf_idf_dict in enumerate(tf_idf_dicts):\n",
    "        num_file = f'00{i+1}' if i < 9 else f'0{i+1}' if i < 99 else f'100'\n",
    "        path_result = f'{path_result_begin}{num_file}.txt'\n",
    "        os.makedirs(os.path.dirname(path_result), exist_ok=True)\n",
    "        with open(path_result, \"w\", encoding=\"utf-8\") as file_result:\n",
    "            for k, v in tf_idf_dict.items():\n",
    "                file_result.write(k + \" \" + str(idf_terms[k]) + \" \" + str(v))\n",
    "                file_result.write(\"\\n\")"
   ]
  },
  {
   "cell_type": "code",
   "execution_count": 28,
   "id": "63e3f390-f37d-4953-9021-d7ce95b23f30",
   "metadata": {},
   "outputs": [],
   "source": [
    "tf_idf_dicts_tokens, idf_tokens = get_tf_terms(\"tokens\")\n",
    "writing_files(tf_idf_dicts_tokens, idf_tokens, \"tokens\")\n",
    "\n",
    "tf_idf_dicts_lemmas, idf_lemmas = get_tf_terms(\"lemmas\")\n",
    "writing_files(tf_idf_dicts_lemmas, idf_lemmas, \"lemmas\")"
   ]
  },
  {
   "cell_type": "code",
   "execution_count": null,
   "id": "be8805ae-8ee7-4a81-8df7-7960d92e0a24",
   "metadata": {},
   "outputs": [],
   "source": []
  }
 ],
 "metadata": {
  "kernelspec": {
   "display_name": "Python 3 (ipykernel)",
   "language": "python",
   "name": "python3"
  },
  "language_info": {
   "codemirror_mode": {
    "name": "ipython",
    "version": 3
   },
   "file_extension": ".py",
   "mimetype": "text/x-python",
   "name": "python",
   "nbconvert_exporter": "python",
   "pygments_lexer": "ipython3",
   "version": "3.8.4"
  }
 },
 "nbformat": 4,
 "nbformat_minor": 5
}
