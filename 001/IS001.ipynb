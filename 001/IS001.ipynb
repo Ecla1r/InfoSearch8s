{
 "cells": [
  {
   "cell_type": "code",
   "execution_count": 1,
   "id": "2c266a09-6a37-4e1e-ad42-4d5639b36d5c",
   "metadata": {},
   "outputs": [],
   "source": [
    "import requests\n",
    "from bs4 import BeautifulSoup\n",
    "import os"
   ]
  },
  {
   "cell_type": "code",
   "execution_count": 2,
   "id": "f79e6f15-91f3-496d-815c-ccfb4e8f7062",
   "metadata": {},
   "outputs": [],
   "source": [
    "INIT_LINK = 'https://genius.com/tags/rap/all?page='\n",
    "COUNT = 100\n",
    "INDEX_FILE = 'index.txt'"
   ]
  },
  {
   "cell_type": "code",
   "execution_count": 3,
   "id": "9bd9654b-9dce-4056-90a8-5407cfbcdce7",
   "metadata": {},
   "outputs": [],
   "source": [
    "def get_links(url):\n",
    "    page = requests.get(url)\n",
    "    data = BeautifulSoup(page.text, features=\"lxml\")\n",
    "    links = []\n",
    "    for item in data.select(\"a.song_link\"):\n",
    "        links.append(item['href'])\n",
    "    return links"
   ]
  },
  {
   "cell_type": "code",
   "execution_count": 4,
   "id": "027b631b-47ef-4b4f-a16d-20a8b9cca3fb",
   "metadata": {},
   "outputs": [],
   "source": [
    "def crawler(url):\n",
    "    page = requests.get(url)\n",
    "    data = BeautifulSoup(page.text, \"html.parser\")\n",
    "    for d in data(['style', 'script', 'noscript', 'link']):\n",
    "        d.decompose()\n",
    "    return str(data)"
   ]
  },
  {
   "cell_type": "code",
   "execution_count": 5,
   "id": "fe2ecd97-dcb9-4cf6-82ab-3bcfd70ee137",
   "metadata": {},
   "outputs": [],
   "source": [
    "links = []\n",
    "i = 1\n",
    "info = \"\"\n",
    "\n",
    "while len(links) < COUNT:\n",
    "    cur_link = f'{INIT_LINK}{i}'\n",
    "    nlinks = get_links(cur_link)\n",
    "    links += nlinks\n",
    "    i += 1\n",
    "\n",
    "for i, link in enumerate(links):\n",
    "    html_text = crawler(link)\n",
    "    filename = f'00{i+1}' if i < 9 else f'0{i+1}' if i < 99 else f'100'\n",
    "    info += f\"{filename}\\t{link}\\n\"\n",
    "    path_result = f\"Выкачка/{filename}.txt\"\n",
    "    os.makedirs(os.path.dirname(path_result), exist_ok=True)\n",
    "    with open(path_result, \"w\", encoding=\"utf-8\") as file_result:\n",
    "        file_result.write(html_text)\n",
    "with open(INDEX_FILE, \"w\", encoding=\"utf-8\") as f:\n",
    "    f.write(info)"
   ]
  },
  {
   "cell_type": "code",
   "execution_count": null,
   "id": "b8796c54-1e5f-4a5e-a86a-1612f660fd71",
   "metadata": {},
   "outputs": [],
   "source": []
  }
 ],
 "metadata": {
  "kernelspec": {
   "display_name": "Python 3 (ipykernel)",
   "language": "python",
   "name": "python3"
  },
  "language_info": {
   "codemirror_mode": {
    "name": "ipython",
    "version": 3
   },
   "file_extension": ".py",
   "mimetype": "text/x-python",
   "name": "python",
   "nbconvert_exporter": "python",
   "pygments_lexer": "ipython3",
   "version": "3.8.4"
  }
 },
 "nbformat": 4,
 "nbformat_minor": 5
}
